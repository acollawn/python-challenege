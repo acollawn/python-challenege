{
 "cells": [
  {
   "cell_type": "code",
   "execution_count": 1,
   "id": "ed4f0d20",
   "metadata": {},
   "outputs": [],
   "source": [
    "# Import Modules\n",
    "import os\n",
    "import csv\n",
    "\n",
    " # Import Dependencies\n",
    "import pandas as pd\n",
    "from pathlib import Path\n"
   ]
  },
  {
   "cell_type": "code",
   "execution_count": 2,
   "id": "b3bf1703",
   "metadata": {},
   "outputs": [
    {
     "data": {
      "text/html": [
       "<div>\n",
       "<style scoped>\n",
       "    .dataframe tbody tr th:only-of-type {\n",
       "        vertical-align: middle;\n",
       "    }\n",
       "\n",
       "    .dataframe tbody tr th {\n",
       "        vertical-align: top;\n",
       "    }\n",
       "\n",
       "    .dataframe thead th {\n",
       "        text-align: right;\n",
       "    }\n",
       "</style>\n",
       "<table border=\"1\" class=\"dataframe\">\n",
       "  <thead>\n",
       "    <tr style=\"text-align: right;\">\n",
       "      <th></th>\n",
       "      <th>Ballot ID</th>\n",
       "      <th>County</th>\n",
       "      <th>Candidate</th>\n",
       "    </tr>\n",
       "  </thead>\n",
       "  <tbody>\n",
       "    <tr>\n",
       "      <th>0</th>\n",
       "      <td>1323913</td>\n",
       "      <td>Jefferson</td>\n",
       "      <td>Charles Casper Stockham</td>\n",
       "    </tr>\n",
       "    <tr>\n",
       "      <th>1</th>\n",
       "      <td>1005842</td>\n",
       "      <td>Jefferson</td>\n",
       "      <td>Charles Casper Stockham</td>\n",
       "    </tr>\n",
       "    <tr>\n",
       "      <th>2</th>\n",
       "      <td>1880345</td>\n",
       "      <td>Jefferson</td>\n",
       "      <td>Charles Casper Stockham</td>\n",
       "    </tr>\n",
       "    <tr>\n",
       "      <th>3</th>\n",
       "      <td>1600337</td>\n",
       "      <td>Jefferson</td>\n",
       "      <td>Charles Casper Stockham</td>\n",
       "    </tr>\n",
       "    <tr>\n",
       "      <th>4</th>\n",
       "      <td>1835994</td>\n",
       "      <td>Jefferson</td>\n",
       "      <td>Charles Casper Stockham</td>\n",
       "    </tr>\n",
       "  </tbody>\n",
       "</table>\n",
       "</div>"
      ],
      "text/plain": [
       "   Ballot ID     County                Candidate\n",
       "0    1323913  Jefferson  Charles Casper Stockham\n",
       "1    1005842  Jefferson  Charles Casper Stockham\n",
       "2    1880345  Jefferson  Charles Casper Stockham\n",
       "3    1600337  Jefferson  Charles Casper Stockham\n",
       "4    1835994  Jefferson  Charles Casper Stockham"
      ]
     },
     "execution_count": 2,
     "metadata": {},
     "output_type": "execute_result"
    }
   ],
   "source": [
    "# import CSV\n",
    "csv_path = Path(\"Resources/election_data.csv\")\n",
    "poll_df = pd.read_csv(csv_path) \n",
    "poll_df.head()"
   ]
  },
  {
   "cell_type": "code",
   "execution_count": 3,
   "id": "05bf37bc",
   "metadata": {},
   "outputs": [
    {
     "data": {
      "text/plain": [
       "Ballot ID    369711\n",
       "County       369711\n",
       "Candidate    369711\n",
       "dtype: int64"
      ]
     },
     "execution_count": 3,
     "metadata": {},
     "output_type": "execute_result"
    }
   ],
   "source": [
    "# The total number of votes cast\n",
    "poll_df.count()\n",
    "poll_total = poll_df.count()\n",
    "poll_total"
   ]
  },
  {
   "cell_type": "code",
   "execution_count": 4,
   "id": "effe8cd4",
   "metadata": {},
   "outputs": [
    {
     "data": {
      "text/plain": [
       "array(['Charles Casper Stockham', 'Diana DeGette', 'Raymon Anthony Doane'],\n",
       "      dtype=object)"
      ]
     },
     "execution_count": 4,
     "metadata": {},
     "output_type": "execute_result"
    }
   ],
   "source": [
    "# A complete list of candidates who received votes\n",
    "poll_df[\"Candidate\"].unique()"
   ]
  },
  {
   "cell_type": "code",
   "execution_count": 5,
   "id": "3ce075c4",
   "metadata": {},
   "outputs": [
    {
     "data": {
      "text/plain": [
       "Ballot ID    85213\n",
       "County       85213\n",
       "Candidate    85213\n",
       "dtype: int64"
      ]
     },
     "execution_count": 5,
     "metadata": {},
     "output_type": "execute_result"
    }
   ],
   "source": [
    "# The total number of votes each candidate won\n",
    "poll_1 = poll_df.loc[poll_df['Candidate'] == \"Charles Casper Stockham\"]\n",
    "poll_1_total = poll_1.count()\n",
    "poll_1_total\n"
   ]
  },
  {
   "cell_type": "code",
   "execution_count": 6,
   "id": "b694fcf3",
   "metadata": {},
   "outputs": [
    {
     "data": {
      "text/plain": [
       "Ballot ID    272892\n",
       "County       272892\n",
       "Candidate    272892\n",
       "dtype: int64"
      ]
     },
     "execution_count": 6,
     "metadata": {},
     "output_type": "execute_result"
    }
   ],
   "source": [
    "# The total number of votes each candidate won\n",
    "poll_2 = poll_df.loc[poll_df['Candidate'] == \"Diana DeGette\"]\n",
    "poll_2_total = poll_2.count()\n",
    "poll_2_total"
   ]
  },
  {
   "cell_type": "code",
   "execution_count": 7,
   "id": "44f158d8",
   "metadata": {},
   "outputs": [
    {
     "data": {
      "text/plain": [
       "Ballot ID    11606\n",
       "County       11606\n",
       "Candidate    11606\n",
       "dtype: int64"
      ]
     },
     "execution_count": 7,
     "metadata": {},
     "output_type": "execute_result"
    }
   ],
   "source": [
    "# The total number of votes each candidate won\n",
    "poll_3 = poll_df.loc[poll_df['Candidate'] == \"Raymon Anthony Doane\"]\n",
    "poll_3_total = poll_3.count()\n",
    "poll_3_total"
   ]
  },
  {
   "cell_type": "code",
   "execution_count": 8,
   "id": "6f318295",
   "metadata": {},
   "outputs": [
    {
     "data": {
      "text/plain": [
       "Ballot ID    23.048543\n",
       "County       23.048543\n",
       "Candidate    23.048543\n",
       "dtype: float64"
      ]
     },
     "execution_count": 8,
     "metadata": {},
     "output_type": "execute_result"
    }
   ],
   "source": [
    "# The percentage of votes Charles Casper Stockham won\n",
    "Percentage_1 = poll_1_total/poll_total*100\n",
    "Percentage_1\n"
   ]
  },
  {
   "cell_type": "code",
   "execution_count": 9,
   "id": "cc14b948",
   "metadata": {},
   "outputs": [
    {
     "data": {
      "text/plain": [
       "Ballot ID    73.812248\n",
       "County       73.812248\n",
       "Candidate    73.812248\n",
       "dtype: float64"
      ]
     },
     "execution_count": 9,
     "metadata": {},
     "output_type": "execute_result"
    }
   ],
   "source": [
    "# The percentage of votes Diana DeGette won\n",
    "Percentage_2 = poll_2_total/poll_total*100\n",
    "Percentage_2"
   ]
  },
  {
   "cell_type": "code",
   "execution_count": 10,
   "id": "82269e83",
   "metadata": {},
   "outputs": [
    {
     "data": {
      "text/plain": [
       "Ballot ID    3.139209\n",
       "County       3.139209\n",
       "Candidate    3.139209\n",
       "dtype: float64"
      ]
     },
     "execution_count": 10,
     "metadata": {},
     "output_type": "execute_result"
    }
   ],
   "source": [
    "# The percentage of votes Raymon Anthony Doane won\n",
    "Percentage_3 = poll_3_total/poll_total*100\n",
    "Percentage_3"
   ]
  },
  {
   "cell_type": "code",
   "execution_count": 35,
   "id": "bdc26b9d",
   "metadata": {},
   "outputs": [
    {
     "name": "stdout",
     "output_type": "stream",
     "text": [
      "Winner: Diana DeGette\n"
     ]
    }
   ],
   "source": [
    "# The winner of the election based on popular vote\n",
    "poll_dict = {\n",
    "            \"Charles Casper Stockham\": 85213,\n",
    "            \"Diana DeGette\": 272892,\n",
    "            \"Raymon Anthony Doane\": 11606\n",
    "            }\n",
    "\n",
    "\n",
    "print(\"Winner: \" + max(poll_dict, key=poll_dict.get))"
   ]
  },
  {
   "cell_type": "code",
   "execution_count": null,
   "id": "483c3f22",
   "metadata": {},
   "outputs": [],
   "source": []
  }
 ],
 "metadata": {
  "kernelspec": {
   "display_name": "Python 3 (ipykernel)",
   "language": "python",
   "name": "python3"
  },
  "language_info": {
   "codemirror_mode": {
    "name": "ipython",
    "version": 3
   },
   "file_extension": ".py",
   "mimetype": "text/x-python",
   "name": "python",
   "nbconvert_exporter": "python",
   "pygments_lexer": "ipython3",
   "version": "3.10.12"
  }
 },
 "nbformat": 4,
 "nbformat_minor": 5
}
